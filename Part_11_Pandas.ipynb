{
 "cells": [
  {
   "cell_type": "markdown",
   "metadata": {},
   "source": [
    "### Series"
   ]
  },
  {
   "cell_type": "code",
   "execution_count": 14,
   "metadata": {},
   "outputs": [
    {
     "output_type": "stream",
     "name": "stdout",
     "text": "default index = \n 0    30\n1    11\n2    43\n3    57\ndtype: int64\n\ncustom index = \n A    5\nB    4\nC    1\nB    3\ndtype: int64\n\naccess single element = \n 43\n\naccess range of elements = \n 0    30\n1    11\n2    43\n3    57\ndtype: int64\n\nAccessing an entire row = \n, B    4\nB    3\ndtype: int64\n"
    }
   ],
   "source": [
    "import pandas as pd\n",
    "# Creating Series\n",
    "series = pd.Series([30,11,43,57])                                   # default index is 0 onwards\n",
    "print('default index = \\n', series)\n",
    "\n",
    "series2 = pd.Series([5,4,1,3], index=['A','B','C','B'])             # custom index can be applied\n",
    "print('\\ncustom index = \\n', series2)\n",
    "\n",
    "# Accessing elements in a series using index location (iloc), indeces start from 0 onwards\n",
    "print('\\naccess single element = \\n', series.iloc[2])               # print 2nd index element\n",
    "print('\\naccess range of elements = \\n', series.iloc[0:4])          # print 2nd to last indecies elements\n",
    "\n",
    "# Accessing rows\n",
    "print('\\nAccessing an entire row = \\n,', series2.loc['B'])          # print all rows with index B\n",
    "\n",
    "# Basically iloc and loc both return rowa\n",
    "# iloc takes in speific indeces for the rows\n",
    "# loc takes in specific criteria for the row"
   ]
  },
  {
   "cell_type": "markdown",
   "metadata": {},
   "source": [
    "### Importing Data"
   ]
  },
  {
   "cell_type": "code",
   "execution_count": null,
   "metadata": {},
   "outputs": [],
   "source": [
    "df = pd.DataFrame()                         # creating an empty data frame\n",
    "df = pd.read_csv('PokemonData.csv')        # importing data from a csv file\n",
    "\n",
    "# data without headers: df = pd.read_csv('PokemonData.csv', header = None)\n",
    "\n",
    "# excel file: df = pd.read_excel('PokemonData.xslx')\n",
    "# text file with tabbed data: df = pd.read_csv('PokemonData.txt',delimiter = '\\t')"
   ]
  },
  {
   "cell_type": "markdown",
   "metadata": {},
   "source": [
    "### Display Data"
   ]
  },
  {
   "cell_type": "code",
   "execution_count": 15,
   "metadata": {},
   "outputs": [
    {
     "output_type": "stream",
     "name": "stdout",
     "text": "Name   Type 1  Type 2   HP  Attack  Defense  Sp. Atk  \\\n2                    Abra  Psychic     NaN   25      20       15      105   \n3                   Absol     Dark     NaN   65     130       60       75   \n4         AbsolMega Absol     Dark     NaN   65     150       60      115   \n5                Accelgor      Bug     NaN   80      70       40      100   \n6    AegislashBlade Forme    Steel   Ghost   60     150       50      150   \n..                    ...      ...     ...  ...     ...      ...      ...   \n795               Zoroark     Dark     NaN   60     105       60      120   \n796                 Zorua     Dark     NaN   40      65       40       80   \n797                 Zubat   Poison  Flying   40      45       35       30   \n798              Zweilous     Dark  Dragon   72      85       70       65   \n799      Zygarde50% Forme   Dragon  Ground  108     100      121       81   \n\n     Sp. Def  Speed  Generation  Legendary  Total  \n2         55     90           1      False    310  \n3         60     75           3      False    465  \n4         60    115           3      False    565  \n5         60    145           5      False    495  \n6         50     60           6      False    520  \n..       ...    ...         ...        ...    ...  \n795       60    105           5      False    510  \n796       40     65           5      False    330  \n797       40     55           1      False    245  \n798       70     58           5      False    420  \n799       95     95           6       True    600  \n\n[798 rows x 12 columns]\n                   Name   Type 1 Type 2  HP  Attack  Defense  Sp. Atk  \\\n2                  Abra  Psychic    NaN  25      20       15      105   \n3                 Absol     Dark    NaN  65     130       60       75   \n4       AbsolMega Absol     Dark    NaN  65     150       60      115   \n5              Accelgor      Bug    NaN  80      70       40      100   \n6  AegislashBlade Forme    Steel  Ghost  60     150       50      150   \n\n   Sp. Def  Speed  Generation  Legendary  Total  \n2       55     90           1      False    310  \n3       60     75           3      False    465  \n4       60    115           3      False    565  \n5       60    145           5      False    495  \n6       50     60           6      False    520  \n                 Name  Type 1  Type 2   HP  Attack  Defense  Sp. Atk  Sp. Def  \\\n797             Zubat  Poison  Flying   40      45       35       30       40   \n798          Zweilous    Dark  Dragon   72      85       70       65       70   \n799  Zygarde50% Forme  Dragon  Ground  108     100      121       81       95   \n\n     Speed  Generation  Legendary  Total  \n797     55           1      False    245  \n798     58           5      False    420  \n799     95           6       True    600  \n2                      Abra\n3                     Absol\n4           AbsolMega Absol\n5                  Accelgor\n6      AegislashBlade Forme\n               ...         \n795                 Zoroark\n796                   Zorua\n797                   Zubat\n798                Zweilous\n799        Zygarde50% Forme\nName: Name, Length: 798, dtype: object\n                     Name   Type 1   HP\n2                    Abra  Psychic   25\n3                   Absol     Dark   65\n4         AbsolMega Absol     Dark   65\n5                Accelgor      Bug   80\n6    AegislashBlade Forme    Steel   60\n..                    ...      ...  ...\n795               Zoroark     Dark   60\n796                 Zorua     Dark   40\n797                 Zubat   Poison   40\n798              Zweilous     Dark   72\n799      Zygarde50% Forme   Dragon  108\n\n[798 rows x 3 columns]\n                     Name   Type 1  Type 2   HP  Attack  Defense  Sp. Atk  \\\n13               Alakazam  Psychic     NaN   55      50       45      135   \n14  AlakazamMega Alakazam  Psychic     NaN   55      50       65      175   \n15              Alomomola    Water     NaN  165      75       80       40   \n16                Altaria   Dragon  Flying   75      70       90       70   \n17    AltariaMega Altaria   Dragon   Fairy   75     110      110      110   \n\n    Sp. Def  Speed  Generation  Legendary  Total  \n13       95    120           1      False    500  \n14       95    150           1      False    590  \n15       45     65           5      False    470  \n16      105     80           3      False    490  \n17      105     80           3      False    590  \n['Name' 'Type 1' 'Type 2' 'HP' 'Attack' 'Defense' 'Sp. Atk' 'Sp. Def'\n 'Speed' 'Generation' 'Legendary' 'Total']\n[  2   3   4   5   6   7   8   9  10  11  12  13  14  15  16  17  18  19\n  20  21  22  23  24  25  26  27  28  29  30  31  32  33  34  35  36  37\n  38  39  40  41  42  43  44  45  46  47  48  49  50  51  52  53  54  55\n  56  57  58  59  60  61  62  63  64  65  66  67  68  69  70  71  72  73\n  74  75  76  77  78  79  80  81  82  83  84  85  86  87  88  89  90  91\n  92  93  94  95  96  97  98  99 100 101 102 103 104 105 106 107 108 109\n 110 111 112 113 114 115 116 117 118 119 120 121 122 123 124 125 126 127\n 128 129 130 131 132 133 134 135 136 137 138 139 140 141 142 143 144 145\n 146 147 148 149 150 151 152 153 154 155 156 157 158 159 160 161 162 163\n 164 165 166 167 168 169 170 171 172 173 174 175 176 177 178 179 180 181\n 182 183 184 185 186 187 188 189 190 191 192 193 194 195 196 197 198 199\n 200 201 202 203 204 205 206 207 208 209 210 211 212 213 214 215 216 217\n 218 219 220 221 222 223 224 225 226 227 228 229 230 231 232 233 234 235\n 236 237 238 239 240 241 242 243 244 245 246 247 248 249 250 251 252 253\n 254 255 256 257 258 259 260 261 262 263 264 265 266 267 268 269 270 271\n 272 273 274 275 276 277 278 279 280 281 282 283 284 285 286 287 288 289\n 290 291 292 293 294 295 296 297 298 299 300 301 302 303 304 305 306 307\n 308 309 310 311 312 313 314 315 316 317 318 319 320 321 322 323 324 325\n 326 327 328 329 330 331 332 333 334 335 336 337 338 339 340 341 342 343\n 344 345 346 347 348 349 350 351 352 353 354 355 356 357 358 359 360 361\n 362 363 364 365 366 367 368 369 370 371 372 373 374 375 376 377 378 379\n 380 381 382 383 384 385 386 387 388 389 390 391 392 393 394 395 396 397\n 398 399 400 401 402 403 404 405 406 407 408 409 410 411 412 413 414 415\n 416 417 418 419 420 421 422 423 424 425 426 427 428 429 430 431 432 433\n 434 435 436 437 438 439 440 441 442 443 444 445 446 447 448 449 450 451\n 452 453 454 455 456 457 458 459 460 461 462 463 464 465 466 467 468 469\n 470 471 472 473 474 475 476 477 478 479 480 481 482 483 484 485 486 487\n 488 489 490 491 492 493 494 495 496 497 498 499 500 501 502 503 504 505\n 506 507 508 509 510 511 512 513 514 515 516 517 518 519 520 521 522 523\n 524 525 526 527 528 529 530 531 532 533 534 535 536 537 538 539 540 541\n 542 543 544 545 546 547 548 549 550 551 552 553 554 555 556 557 558 559\n 560 561 562 563 564 565 566 567 568 569 570 571 572 573 574 575 576 577\n 578 579 580 581 582 583 584 585 586 587 588 589 590 591 592 593 594 595\n 596 597 598 599 600 601 602 603 604 605 606 607 608 609 610 611 612 613\n 614 615 616 617 618 619 620 621 622 623 624 625 626 627 628 629 630 631\n 632 633 634 635 636 637 638 639 640 641 642 643 644 645 646 647 648 649\n 650 651 652 653 654 655 656 657 658 659 660 661 662 663 664 665 666 667\n 668 669 670 671 672 673 674 675 676 677 678 679 680 681 682 683 684 685\n 686 687 688 689 690 691 692 693 694 695 696 697 698 699 700 701 702 703\n 704 705 706 707 708 709 710 711 712 713 714 715 716 717 718 719 720 721\n 722 723 724 725 726 727 728 729 730 731 732 733 734 735 736 737 738 739\n 740 741 742 743 744 745 746 747 748 749 750 751 752 753 754 755 756 757\n 758 759 760 761 762 763 764 765 766 767 768 769 770 771 772 773 774 775\n 776 777 778 779 780 781 782 783 784 785 786 787 788 789 790 791 792 793\n 794 795 796 797 798 799]\n"
    }
   ],
   "source": [
    "print(df)                                   # display all of data frame\n",
    "print(df.head())                            # display first 5 rows by default, any number can be entered\n",
    "print(df.tail(3))                           # display last 3 rows, 5 by default\n",
    "print(df['Name'])                           # display single column\n",
    "print(df[['Name', 'Type 1', 'HP']])         # display myltiple columns\n",
    "print(df.columns.values)                    # display list of columns\n",
    "print(df.index.values)                      # diplay list of index"
   ]
  },
  {
   "cell_type": "markdown",
   "metadata": {},
   "source": [
    "### Data Types"
   ]
  },
  {
   "cell_type": "code",
   "execution_count": null,
   "metadata": {},
   "outputs": [],
   "source": [
    "# python=pandas, int=int64, float=fload64, string=object, datetime=datetime64, and=&, or=|, not=~\n",
    "print(df.dtypes)                    # show data types of all columns\n",
    "print(df['HP'].dtypes)              # show data type of a specific column\n",
    "\n",
    "print(df.iloc[11,10])\n",
    "print(df.iloc[11,10].dtype)          # show data type of a specific value\n",
    "# note that value of string data type will show an error"
   ]
  },
  {
   "cell_type": "markdown",
   "metadata": {},
   "source": [
    "### Statistics"
   ]
  },
  {
   "cell_type": "code",
   "execution_count": null,
   "metadata": {},
   "outputs": [],
   "source": [
    "print(df['HP'].describe())                              # show general statistics of single column\n",
    "print(df.describe())                                    # show general statistics of all columns"
   ]
  },
  {
   "cell_type": "markdown",
   "metadata": {},
   "source": [
    "### Sorting Values"
   ]
  },
  {
   "cell_type": "code",
   "execution_count": null,
   "metadata": {},
   "outputs": [],
   "source": [
    "df.sort_values(['Name'], axis=0, ascending=[True], inplace=True)    # sorting values\n",
    "# axis=0 refers to rows\n",
    "# ascending=True means sort from A to Z\n",
    "# multiple columns can be entered with multiple ascending types for example:\n",
    "# df.sort_values(['Name', 'HP'], axis=0, ascending=[True, False], inplace=True)\n",
    "df.reset_index(drop=True, inplace=True)\n",
    "print(df.head())"
   ]
  },
  {
   "cell_type": "markdown",
   "metadata": {},
   "source": [
    "### Resetting Index"
   ]
  },
  {
   "cell_type": "code",
   "execution_count": null,
   "metadata": {},
   "outputs": [],
   "source": [
    "# any modifications to the data creates a new index and old is stored in a column\n",
    "df.reset_index(drop=True, inplace=True)\n",
    "# reset index with drop = True does not save the old index\n",
    "# inplace = True is an alternative to reassigning\n",
    "print(df.head())"
   ]
  },
  {
   "cell_type": "markdown",
   "metadata": {},
   "source": [
    "### Removing Columns and Rows"
   ]
  },
  {
   "cell_type": "code",
   "execution_count": null,
   "metadata": {},
   "outputs": [],
   "source": [
    "# removing columns and rows\n",
    "df = df.drop(columns=['#'])                 # removed column name '#'\n",
    "df = df.drop(df.index[0:2])                 # removed rows 0 and 1\n",
    "print(df.head())"
   ]
  },
  {
   "cell_type": "markdown",
   "metadata": {},
   "source": [
    "### Adding and Rearrenging Columns"
   ]
  },
  {
   "cell_type": "code",
   "execution_count": null,
   "metadata": {},
   "outputs": [],
   "source": [
    "print(df.head())\n",
    "print(df.columns)\n",
    "df['Total'] = df['HP'] + df['Attack'] + df['Defense'] + df['Sp. Atk'] + df['Sp. Def'] + df['Speed']\n",
    "# alternatively: df['Total'] = df.iloc[:, 3:9].sum(axis = 1)\n",
    "print(df.head())\n",
    "\n",
    "df_modified = pd.DataFrame(df, columns=['Name', 'Type 1', 'Type 2', 'Legendary', 'Generation', 'Total'])\n",
    "print(df_modified.head(10))"
   ]
  },
  {
   "cell_type": "markdown",
   "metadata": {},
   "source": [
    "### Exporting Data Frame"
   ]
  },
  {
   "cell_type": "code",
   "execution_count": null,
   "metadata": {},
   "outputs": [],
   "source": [
    "df_modified.to_csv('PokemonDataModified.csv', index=False)"
   ]
  },
  {
   "cell_type": "markdown",
   "metadata": {},
   "source": [
    "### Accesing Data"
   ]
  },
  {
   "cell_type": "code",
   "execution_count": null,
   "metadata": {},
   "outputs": [],
   "source": [
    "# loc[rows labels, columns labels]\n",
    "df.head()\n",
    "df.loc[11:15, 'Attack':'Speed']             # Rows 11 to 15, Columns from Attack to Speed; all inclusive\n",
    "df.loc[[11,15,17], ['Name', 'Defense']]     # Rows 11, 15, and 17, columns Name and Defense\n",
    "df.loc[df['Speed'] <= 100]                  # all rows where Speed column is <=100\n",
    "df.loc[df.index <= 10]                      # all columns for rows <= 10"
   ]
  }
 ],
 "metadata": {
  "language_info": {
   "codemirror_mode": {
    "name": "ipython",
    "version": 3
   },
   "file_extension": ".py",
   "mimetype": "text/x-python",
   "name": "python",
   "nbconvert_exporter": "python",
   "pygments_lexer": "ipython3",
   "version": "3.6.8-final"
  },
  "orig_nbformat": 2,
  "kernelspec": {
   "name": "python36864bitc7609d8418584bf0bee23e10dd28782a",
   "display_name": "Python 3.6.8 64-bit"
  }
 },
 "nbformat": 4,
 "nbformat_minor": 2
}