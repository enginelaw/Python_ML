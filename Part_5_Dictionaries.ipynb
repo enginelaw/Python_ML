{
 "cells": [
  {
   "cell_type": "markdown",
   "metadata": {},
   "source": [
    "### Creating dictionaries"
   ]
  },
  {
   "cell_type": "code",
   "execution_count": 1,
   "metadata": {},
   "outputs": [
    {
     "output_type": "stream",
     "name": "stdout",
     "text": "all dictionary =  {'name': 'john', 'age': 26, 'courses': ['calculus', 'physics']}\n"
    }
   ],
   "source": [
    "dictionary = {}                                             # Empty dictionary\n",
    "\n",
    "student = {                                                 # dictionary with keys and values\n",
    "    'name': 'john',                                         # keys are name, age, and courses\n",
    "    'age': 26,                                              # values are john, 26, and list of courses\n",
    "    'courses': ['calculus', 'physics']                      # keys and values both can be of any data type\n",
    "}\n",
    "print('all dictionary = ', student)                         # display entire dictionary"
   ]
  },
  {
   "cell_type": "markdown",
   "metadata": {},
   "source": [
    "### Accessing individual key"
   ]
  },
  {
   "cell_type": "code",
   "execution_count": 2,
   "metadata": {},
   "outputs": [
    {
     "output_type": "stream",
     "name": "stdout",
     "text": "name key =  marry\ncourses key =  ['music', 'drama']\nphone key =  None\nphone key =  Not Found\n"
    }
   ],
   "source": [
    "student = {'name': 'marry', 'age': 20, 'courses': ['music', 'drama']}\n",
    "print('name key = ', student['name'])                       # accessing an existing key\n",
    "print('courses key = ', student.get('courses'))             # another way to access a single key\n",
    "\n",
    "# what happens when accessing a nonexisting key\n",
    "print('phone key = ', student.get('phone'))                 # output = None\n",
    "print('phone key = ', student.get('phone', 'Not Found'))    # output = Not Found\n",
    "# print('phone key = ', student['phone'])                   # this gives an error"
   ]
  },
  {
   "cell_type": "markdown",
   "metadata": {},
   "source": [
    "### Adding a new key"
   ]
  },
  {
   "cell_type": "code",
   "execution_count": 3,
   "metadata": {},
   "outputs": [
    {
     "output_type": "stream",
     "name": "stdout",
     "text": "original =  {'name': 'peter', 'age': 22, 'courses': ['economics', 'compscience']}\nadded phone key =  {'name': 'peter', 'age': 22, 'courses': ['economics', 'compscience'], 'phone': '101-123-4567'}\nphone key =  101-123-4567\n"
    }
   ],
   "source": [
    "student = {'name': 'peter', 'age': 22, 'courses': ['economics', 'compscience']}\n",
    "print('original = ', student)                               # display original dictionary\n",
    "\n",
    "student['phone'] = '101-123-4567'                           # adding a phone key and value\n",
    "print('added phone key = ', student)                        # display dictionary with added key\n",
    "print('phone key = ', student['phone'])                     # access phone key"
   ]
  },
  {
   "cell_type": "markdown",
   "metadata": {},
   "source": [
    "### Modifying a dictionary"
   ]
  },
  {
   "cell_type": "code",
   "execution_count": 4,
   "metadata": {},
   "outputs": [
    {
     "output_type": "stream",
     "name": "stdout",
     "text": "original =  {'name': 'zack', 'age': 29, 'lessons': ['swim', 'bowling']}\n\nupdated a single key =  {'name': 'zack', 'age': 29, 'lessons': ['hiking', 'cricket', 'diving']}\n\nadding a new key =  {'name': 'zack', 'age': 29, 'lessons': ['hiking', 'cricket', 'diving'], 'phone': '555-555-5555'}\n\nupdate entire dictionary =  {'name': 'zack', 'age': 30, 'lessons': ['hiking', 'cricket', 'diving'], 'phone': '555-555-5555', 'email': 'zack@comp.com'}\n\ndelete a single key =  {'name': 'zack', 'lessons': ['hiking', 'cricket', 'diving'], 'phone': '555-555-5555', 'email': 'zack@comp.com'}\n\npop a single key =  {'name': 'zack', 'lessons': ['hiking', 'cricket', 'diving'], 'phone': '555-555-5555'}\npopped key =  zack@comp.com\n"
    }
   ],
   "source": [
    "student = {'name': 'zack', 'age': 29, 'lessons': ['swim', 'bowling']}\n",
    "print('original = ', student)                               # creating a new dictionary\n",
    "\n",
    "student['lessons'] = ['hiking', 'cricket', 'diving']        # changing the values in lessons key\n",
    "print('\\nupdated a single key = ', student)                 # other keys and values are unchanged\n",
    "\n",
    "student['phone'] = '555-555-5555'                           # adding a new key and value\n",
    "print('\\nadding a new key = ', student)                     # simplly adds this non existing key and value\n",
    "\n",
    "student.update({'age': 30, 'email': 'zack@comp.com'})       # adding a new key, updating existing key\n",
    "print('\\nupdate entire dictionary = ', student)             # does not alter unchanged keys and values\n",
    "                                                            # updates any existing keys and values\n",
    "                                                            # adds any new keys and values\n",
    "\n",
    "del student['age']                                          # deleting a single key and its value\n",
    "print('\\ndelete a single key = ', student)\n",
    "\n",
    "popped = student.pop('email')                               # delete key and value and store deleted value\n",
    "print('\\npop a single key = ', student)\n",
    "print('popped key = ', popped)"
   ]
  },
  {
   "cell_type": "markdown",
   "metadata": {},
   "source": [
    "### More Useful Dictionary Methods"
   ]
  },
  {
   "cell_type": "code",
   "execution_count": 5,
   "metadata": {},
   "outputs": [
    {
     "output_type": "error",
     "ename": "NameError",
     "evalue": "name 'Pupil' is not defined",
     "traceback": [
      "\u001b[1;31m---------------------------------------------------------------------------\u001b[0m",
      "\u001b[1;31mNameError\u001b[0m                                 Traceback (most recent call last)",
      "\u001b[1;32m<ipython-input-5-8845d4641ed7>\u001b[0m in \u001b[0;36m<module>\u001b[1;34m\u001b[0m\n\u001b[1;32m----> 1\u001b[1;33m \u001b[0mprint\u001b[0m\u001b[1;33m(\u001b[0m\u001b[0mlen\u001b[0m\u001b[1;33m(\u001b[0m\u001b[0mPupil\u001b[0m\u001b[1;33m)\u001b[0m\u001b[1;33m)\u001b[0m\u001b[1;33m\u001b[0m\u001b[1;33m\u001b[0m\u001b[0m\n\u001b[0m\u001b[0;32m      2\u001b[0m \u001b[1;33m\u001b[0m\u001b[0m\n\u001b[0;32m      3\u001b[0m \u001b[1;32mfor\u001b[0m \u001b[0mkey\u001b[0m \u001b[1;32min\u001b[0m \u001b[0mPupil\u001b[0m\u001b[1;33m:\u001b[0m\u001b[1;33m\u001b[0m\u001b[1;33m\u001b[0m\u001b[0m\n\u001b[0;32m      4\u001b[0m     \u001b[0mprint\u001b[0m\u001b[1;33m(\u001b[0m\u001b[0mkey\u001b[0m\u001b[1;33m)\u001b[0m\u001b[1;33m\u001b[0m\u001b[1;33m\u001b[0m\u001b[0m\n\u001b[0;32m      5\u001b[0m \u001b[1;33m\u001b[0m\u001b[0m\n",
      "\u001b[1;31mNameError\u001b[0m: name 'Pupil' is not defined"
     ]
    }
   ],
   "source": [
    "print(len(Pupil))\n",
    "\n",
    "for key in Pupil:\n",
    "    print(key)\n",
    "\n",
    "for key, value in Pupil.items():\n",
    "    print(key, value)\n",
    "\n",
    "print('\\n', Pupil.keys(), '\\n')\n",
    "print(Pupil.values(), '\\n')\n",
    "print(Pupil.items(), '\\n')"
   ]
  },
  {
   "cell_type": "markdown",
   "metadata": {},
   "source": [
    "### Dictionary Example"
   ]
  },
  {
   "cell_type": "code",
   "execution_count": 6,
   "metadata": {},
   "outputs": [
    {
     "output_type": "stream",
     "name": "stdout",
     "text": "{'Name': 'Larry Page', 'Courses': ['Chemistry', 'History', 'Art'], 'Email': 'larry.page@school.com'} \n\n{'Name': 'Larry Page', 'Courses': ['Chemistry', 'History', 'Art'], 'Email': 'larry.page@school.com', 'Phone': '(103) 480-9845'} \n\nlarry.page@school.com \n\n{'Courses': ['Chemistry', 'History', 'Art'], 'Email': 'larry.page@school.com', 'Phone': '(103) 480-9845'} \n Larry Page \n\n{'Courses': ['Chemistry', 'History', 'Art'], 'Email': 'parker.jones@school.com', 'Phone': '(103) 480-9845', 'Zip': 20375, 'Name': 'Parker Jones'}\n"
    }
   ],
   "source": [
    "# Creating a new dictionary\n",
    "Pupil = {\n",
    "    'Name': 'Larry Page',\n",
    "    'Courses': ['Chemistry', 'History', 'Art'],\n",
    "    'Email': 'larry.page@school.com',\n",
    "}\n",
    "print(Pupil, '\\n')\n",
    "\n",
    "# Adding a new key\n",
    "Pupil['Phone'] = '(103) 480-9845'\n",
    "print(Pupil, '\\n')\n",
    "\n",
    "# Accessing a key\n",
    "print(Pupil.get('Email', 'Not Found'), '\\n')\n",
    "\n",
    "# Removing a key\n",
    "Popped_Name = Pupil.pop('Name')\n",
    "print(\n",
    "    Pupil, '\\n',\n",
    "    Popped_Name, '\\n')\n",
    "\n",
    "# Updating a dictionary\n",
    "Pupil.update({'Zip': 20375, 'Name': 'Parker Jones', 'Email': 'parker.jones@school.com'})\n",
    "print(Pupil)"
   ]
  },
  {
   "cell_type": "code",
   "execution_count": null,
   "metadata": {},
   "outputs": [],
   "source": []
  }
 ],
 "metadata": {
  "language_info": {
   "codemirror_mode": {
    "name": "ipython",
    "version": 3
   },
   "file_extension": ".py",
   "mimetype": "text/x-python",
   "name": "python",
   "nbconvert_exporter": "python",
   "pygments_lexer": "ipython3",
   "version": "3.6.8-final"
  },
  "orig_nbformat": 2,
  "kernelspec": {
   "name": "python36864bitc7609d8418584bf0bee23e10dd28782a",
   "display_name": "Python 3.6.8 64-bit"
  }
 },
 "nbformat": 4,
 "nbformat_minor": 2
}