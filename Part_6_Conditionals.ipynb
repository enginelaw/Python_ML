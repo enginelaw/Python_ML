{
 "cells": [
  {
   "cell_type": "markdown",
   "metadata": {},
   "source": [
    "### Basic Comparison Operators"
   ]
  },
  {
   "cell_type": "code",
   "execution_count": null,
   "metadata": {},
   "outputs": [],
   "source": [
    "num1 = 90\n",
    "num2 = 67\n",
    "print('Is 90 equal 67? ', num1 == num2)                     # Equal\n",
    "print('Is 90 not equal 67? ', num1 != num2)                 # Not equal\n",
    "print('Is 90 less than 67? ', num1 < num2)                  # Less than\n",
    "print('Is 90 greater or equal 67? ', num1 >= num2)          # Greater than or equal"
   ]
  },
  {
   "cell_type": "markdown",
   "metadata": {},
   "source": [
    "### isdigit and isalpha"
   ]
  },
  {
   "cell_type": "code",
   "execution_count": null,
   "metadata": {},
   "outputs": [],
   "source": [
    "foo = 'Thirty'\n",
    "print('foo = ', foo)\n",
    "print('foo isdigit = ', foo.isdigit())                      # Check for digits\n",
    "print('foo isalpha = ', foo.isalpha())                      # Check for alphabets"
   ]
  },
  {
   "cell_type": "markdown",
   "metadata": {},
   "source": [
    "### in Check"
   ]
  },
  {
   "cell_type": "code",
   "execution_count": null,
   "metadata": {},
   "outputs": [],
   "source": [
    "fruits = ['apple', 'banana', 'orange']\n",
    "print('fruits = ', fruits)\n",
    "print('apple is in fruits = ', 'apple' in fruits)           # Check if value is in the group"
   ]
  },
  {
   "cell_type": "markdown",
   "metadata": {},
   "source": [
    "### is vs =="
   ]
  },
  {
   "cell_type": "code",
   "execution_count": null,
   "metadata": {},
   "outputs": [],
   "source": [
    "bar = [1, 2, 3]\n",
    "print('bar = ', bar)                            # display value of the variable\n",
    "print('ID of bar = ', id(bar))                  # display memory location of the variable\n",
    "\n",
    "var = [1, 2, 3]\n",
    "print('\\nvar = ', var)\n",
    "print('ID of var = ', id(var))\n",
    "\n",
    "print('\\nEquality check = ', bar == var)        # \"==\" equality check compares the values of variables\n",
    "print('Object identity check = ', bar is var)   # \"is\" object identity check compares the memory location/id of variables"
   ]
  },
  {
   "cell_type": "markdown",
   "metadata": {},
   "source": [
    "### and, or, not"
   ]
  },
  {
   "cell_type": "code",
   "execution_count": null,
   "metadata": {},
   "outputs": [],
   "source": [
    "user = 'Admin'\n",
    "credentials = True\n",
    "if user=='Admin' and credentials==True:         # User is admin and correct credentials\n",
    "    print('Welcome Admin')\n",
    "else:\n",
    "    print('Bad creds')\n",
    "\n",
    "user = 'Bob'\n",
    "credentials = True\n",
    "if user=='Admin' or credentials:                # Note that ==True statement is set by default and doesn't need to be hard coded\n",
    "        print('Welcome Person')                 # either user is admin or correct credentials\n",
    "else:\n",
    "    print('Bad creds')\n",
    "\n",
    "user = 'Larry'\n",
    "credentials = 'hi'                              # credentials can be literally anything other then value thats False\n",
    "if not credentials==False:                      # as long as credentials are not False the statement executes\n",
    "    print('Welcome')"
   ]
  },
  {
   "cell_type": "markdown",
   "metadata": {},
   "source": [
    "### if statement example"
   ]
  },
  {
   "cell_type": "code",
   "execution_count": null,
   "metadata": {},
   "outputs": [],
   "source": [
    "T = float(input('What is the water temperature?'))      # float(any number) converts any integers or string numbers into a float\n",
    "                                                        # input() asks user for his/her input in a string data type\n",
    "if T > 24:\n",
    "    print('Great, jump in!')\n",
    "elif 20 <= T <= 24:\n",
    "    print('Not bad, but put your toe in first!')\n",
    "else:\n",
    "    print('Its freezing!')"
   ]
  },
  {
   "cell_type": "code",
   "execution_count": null,
   "metadata": {},
   "outputs": [],
   "source": []
  }
 ],
 "metadata": {
  "language_info": {
   "codemirror_mode": {
    "name": "ipython",
    "version": 3
   },
   "file_extension": ".py",
   "mimetype": "text/x-python",
   "name": "python",
   "nbconvert_exporter": "python",
   "pygments_lexer": "ipython3",
   "version": "3.6.8-final"
  },
  "orig_nbformat": 2,
  "kernelspec": {
   "name": "python36864bitc7609d8418584bf0bee23e10dd28782a",
   "display_name": "Python 3.6.8 64-bit"
  }
 },
 "nbformat": 4,
 "nbformat_minor": 2
}