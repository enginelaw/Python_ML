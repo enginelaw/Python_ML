{
 "cells": [
  {
   "cell_type": "markdown",
   "metadata": {},
   "source": [
    "### 1-d array"
   ]
  },
  {
   "cell_type": "code",
   "execution_count": 1,
   "metadata": {},
   "outputs": [
    {
     "output_type": "stream",
     "name": "stdout",
     "text": "1-d array = \n [0 1 2 3 4 5 6 7 8 9]\n\n1-d array with step = \n [0 2 4 6 8]\n"
    }
   ],
   "source": [
    "import numpy as np\n",
    "# unlike a list, all values in a ndarray must be of the same type\n",
    "# ndarray: n-dimensional array\n",
    "\n",
    "a1 = np.arange(10)                          # array of 0 to 10, but not including 10\n",
    "print('1-d array = \\n', a1)\n",
    "\n",
    "a2 = np.arange(0, 10, 2)                    # array of every 2nd unit in 0 to 10, but not including 10\n",
    "print('\\n1-d array with step = \\n', a2)"
   ]
  },
  {
   "cell_type": "markdown",
   "metadata": {},
   "source": [
    "### List to Array"
   ]
  },
  {
   "cell_type": "code",
   "execution_count": 2,
   "metadata": {},
   "outputs": [
    {
     "output_type": "stream",
     "name": "stdout",
     "text": "1-d list to array = \n [3 1 4 1 5]\ndimensions =  (5,)\n\n3-d list to matrix = \n [[2 3 4]\n [6 5 4]\n [8 5 2]]\ndimensions =  (3, 3)\n\ncombining lists into matrix = \n [[3 1 4 1 5]\n [5 1 4 1 3]]\n\ncombining lists into 1-d array = \n [3 1 4 1 5 5 1 4 1 3]\n"
    }
   ],
   "source": [
    "list1 = [3, 1, 4, 1, 5]\n",
    "b1 = np.array(list1)\n",
    "print('1-d list to array = \\n', b1)\n",
    "print('dimensions = ', b1.shape)\n",
    "\n",
    "list2 = [[2, 3, 4], [6, 5, 4], [8, 5, 2]]\n",
    "b2 = np.array(list2)\n",
    "print('\\n3-d list to matrix = \\n', b2)\n",
    "print('dimensions = ', b2.shape)\n",
    "\n",
    "list3 = [5, 1, 4, 1, 3]\n",
    "b3 = np.array([list1, list3])\n",
    "print('\\ncombining lists into matrix = \\n', b3)\n",
    "\n",
    "b4 = np.array(list1 + list3)\n",
    "print('\\ncombining lists into 1-d array = \\n', b4)"
   ]
  },
  {
   "cell_type": "markdown",
   "metadata": {},
   "source": [
    "### multi-dimensional matrices"
   ]
  },
  {
   "cell_type": "code",
   "execution_count": 3,
   "metadata": {},
   "outputs": [
    {
     "output_type": "stream",
     "name": "stdout",
     "text": "2x3 matrix of 0s = \n [[0. 0. 0.]\n [0. 0. 0.]]\n\n4x4 matrix of 1s = \n [[1. 1. 1. 1.]\n [1. 1. 1. 1.]\n [1. 1. 1. 1.]\n [1. 1. 1. 1.]]\n\n 3x2 matrix of Ns = \n [['N' 'N']\n ['N' 'N']\n ['N' 'N']]\n"
    }
   ],
   "source": [
    "m1 = np.zeros((2, 3))                       # 2x3 matrix of 0s\n",
    "print('2x3 matrix of 0s = \\n', m1)\n",
    "\n",
    "m2 = np.ones((4, 4))                        # 4x4 matrix of 1s\n",
    "print('\\n4x4 matrix of 1s = \\n', m2)\n",
    "\n",
    "m3 = np.full((3, 2), 'N')                   # np.full for generating matrix of any value\n",
    "print('\\n 3x2 matrix of Ns = \\n', m3)       # values can be of any type not just numbers"
   ]
  },
  {
   "cell_type": "markdown",
   "metadata": {},
   "source": [
    "### Identity and Random Matrices"
   ]
  },
  {
   "cell_type": "code",
   "execution_count": 4,
   "metadata": {},
   "outputs": [
    {
     "output_type": "stream",
     "name": "stdout",
     "text": "3x3 identity matrix = \n [[1. 0. 0.]\n [0. 1. 0.]\n [0. 0. 1.]]\ndimensions of p1 =  (3, 3)\n\nrandom number = \n 0.6737667725180825\n\nrandom array of length 3 = \n [0.31291404 0.31616351 0.70442809]\n\nrandom number matrix = \n [[0.60308571 0.87005188]\n [0.62821558 0.76747043]]\n"
    }
   ],
   "source": [
    "p1 = np.eye(3)                              # identity matrices are always square, thus only 1 input\n",
    "print('3x3 identity matrix = \\n', p1)\n",
    "print('dimensions of p1 = ', p1.shape)      # .shape attibute gives dimensions of a matrix/array\n",
    "\n",
    "p2 = np.random.random()                     # single random value between 0 and 1\n",
    "print('\\nrandom number = \\n', p2)\n",
    "\n",
    "p3 = np.random.random(3)                    # array of 3 random values between 0 and 1\n",
    "print('\\nrandom array of length 3 = \\n', p3)\n",
    "\n",
    "p4 = np.random.random((2, 2))               # matrix of random numbers\n",
    "print('\\nrandom number matrix = \\n', p4)    # random numbers from 0 to 1, non inclusive\n"
   ]
  },
  {
   "cell_type": "markdown",
   "metadata": {},
   "source": [
    "### Array indexing"
   ]
  },
  {
   "cell_type": "code",
   "execution_count": 5,
   "metadata": {},
   "outputs": [
    {
     "output_type": "stream",
     "name": "stdout",
     "text": "print entire array = \n [[2.4 3.2 4.3]\n [6.5 5.6 4.6]\n [8.3 5.2 2. ]]\n\nprint 1st row = \n [2.4 3.2 4.3]\n\nprint 1st and last rows = \n [[2.4 3.2 4.3]\n [6.5 5.6 4.6]]\n\nprint 2nd column = \n [3.2 5.6 5.2]\n\nprint value at 0th row, 2nd col = \n 4.3\n"
    }
   ],
   "source": [
    "list3 = [[2.4, 3.2, 4.3], [6.5, 5.6, 4.6], [8.3, 5.2, 2.0]]\n",
    "r1 = np.array(list3)\n",
    "\n",
    "print('print entire array = \\n', r1)                        # access entire matrix\n",
    "\n",
    "print('\\nprint 1st row = \\n', r1[0])                        # access single row\n",
    "print('\\nprint 1st and last rows = \\n', r1[[0, 1]])         # access list of rows\n",
    "\n",
    "print('\\nprint 2nd column = \\n', r1[:, 1])                  # access single column\n",
    "\n",
    "print('\\nprint value at 0th row, 2nd col = \\n', r1[0, 2])   # access index within a matrix"
   ]
  },
  {
   "cell_type": "markdown",
   "metadata": {},
   "source": [
    "### Reshaping Arrays"
   ]
  },
  {
   "cell_type": "code",
   "execution_count": 6,
   "metadata": {},
   "outputs": [
    {
     "output_type": "stream",
     "name": "stdout",
     "text": "z = \n [9 8 7 6 5 4]\n\n3 row, auto-determined col = \n [[9 8]\n [7 6]\n [5 4]]\n\n3 row, 2 col = \n [[9 8]\n [7 6]\n [5 4]]\n"
    }
   ],
   "source": [
    "import numpy as np\n",
    "# as long as the new shape can accomodate all elements and\n",
    "# no new elements need to be added and it can create a proper matrix form\n",
    "# any array or matrix can be reshaped into them\n",
    "\n",
    "z = np.array([9,8,7,6,5,4])     # 1 row, 6 col\n",
    "print('z = \\n', z)\n",
    "\n",
    "xz = z.reshape(3,-1)            # convert to 3 row, col determined automatically\n",
    "print('\\n3 row, auto-determined col = \\n', xz)\n",
    "\n",
    "yz = z.reshape(3,2)             # convert to 3 row, 2 col\n",
    "print('\\n3 row, 2 col = \\n', yz)"
   ]
  },
  {
   "cell_type": "code",
   "execution_count": null,
   "metadata": {},
   "outputs": [],
   "source": []
  }
 ],
 "metadata": {
  "language_info": {
   "codemirror_mode": {
    "name": "ipython",
    "version": 3
   },
   "file_extension": ".py",
   "mimetype": "text/x-python",
   "name": "python",
   "nbconvert_exporter": "python",
   "pygments_lexer": "ipython3",
   "version": "3.6.8-final"
  },
  "orig_nbformat": 2,
  "kernelspec": {
   "name": "python36864bitc7609d8418584bf0bee23e10dd28782a",
   "display_name": "Python 3.6.8 64-bit"
  }
 },
 "nbformat": 4,
 "nbformat_minor": 2
}