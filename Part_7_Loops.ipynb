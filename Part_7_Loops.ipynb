{
 "cells": [
  {
   "cell_type": "markdown",
   "metadata": {},
   "source": [
    "### For Loops"
   ]
  },
  {
   "cell_type": "code",
   "execution_count": 1,
   "metadata": {},
   "outputs": [
    {
     "output_type": "stream",
     "name": "stdout",
     "text": "1\n2\nFound it\n4\nYes!!\n"
    }
   ],
   "source": [
    "nums = [1, 2, 3, 4, 5, 6]\n",
    "\n",
    "for item in nums:           # for loop, iterating each \"item\" in \"nums\" list\n",
    "    if item == 3:\n",
    "        print('Found it')\n",
    "        continue            # Continue to the next iteration\n",
    "    if item == 5:           # check for item to be 3\n",
    "        print('Yes!!')      \n",
    "        break               # stop the loop\n",
    "    print(item)\n",
    "\n",
    "# 1 and 2 will be printed through else\n",
    "# 3 will not be printed, instead \"Found it\" is printed\n",
    "# after \"Found it\", the iteration continues\n",
    "# 4 will be printed through else\n",
    "# 5 will not be printed, instead \"Yes!!\" is printed\n",
    "# after \"Yes!!\" is printed, for loop will break\n",
    "# 6 is not printed since loop is stopped before this"
   ]
  },
  {
   "cell_type": "markdown",
   "metadata": {},
   "source": [
    "### Loop within a loop"
   ]
  },
  {
   "cell_type": "code",
   "execution_count": 2,
   "metadata": {},
   "outputs": [
    {
     "output_type": "stream",
     "name": "stdout",
     "text": "1 A\n1 B\n1 C\n2 A\n2 B\n2 C\n3 A\n3 B\n3 C\n"
    }
   ],
   "source": [
    "Digit = [1, 2, 3]\n",
    "Alpha = ['A', 'B', 'C']\n",
    "\n",
    "for number in Digit:\n",
    "    for letter in Alpha:\n",
    "        print(number, letter)\n",
    "# print each of the three letters with each number"
   ]
  },
  {
   "cell_type": "markdown",
   "metadata": {},
   "source": [
    "### While loop"
   ]
  },
  {
   "cell_type": "code",
   "execution_count": 3,
   "metadata": {},
   "outputs": [
    {
     "output_type": "stream",
     "name": "stdout",
     "text": "x =  0\nx =  1\nx =  2\nx =  3\nx =  4\nx =  5\nx =  6\nx =  7\nx =  8\nx =  9\nx =  10\n"
    }
   ],
   "source": [
    "x = 0\n",
    "while x <= 10:\n",
    "    print('x = ', x)\n",
    "    x += 1"
   ]
  },
  {
   "cell_type": "markdown",
   "metadata": {},
   "source": [
    "### Range function"
   ]
  },
  {
   "cell_type": "code",
   "execution_count": 4,
   "metadata": {},
   "outputs": [
    {
     "output_type": "stream",
     "name": "stdout",
     "text": "length of ex =  5\n0\n2\n4\n6\n8\n"
    }
   ],
   "source": [
    "ex = range(0,10,2)                  # range(start, stop, step), function\n",
    "print('length of ex = ', len(ex))   # 0 included, 10 not includeds\n",
    "for i in ex:\n",
    "    print(i)"
   ]
  },
  {
   "cell_type": "markdown",
   "metadata": {},
   "source": [
    "### Enumerate function"
   ]
  },
  {
   "cell_type": "code",
   "execution_count": 5,
   "metadata": {},
   "outputs": [
    {
     "output_type": "stream",
     "name": "stdout",
     "text": "0 pinaple\n1 mango\n2 apple\n"
    }
   ],
   "source": [
    "fruits = ['pinaple', 'mango', 'apple']\n",
    "\n",
    "for i, fruit in enumerate(fruits):      # Displays an index and the value\n",
    "    print(i, fruit)"
   ]
  }
 ],
 "metadata": {
  "language_info": {
   "codemirror_mode": {
    "name": "ipython",
    "version": 3
   },
   "file_extension": ".py",
   "mimetype": "text/x-python",
   "name": "python",
   "nbconvert_exporter": "python",
   "pygments_lexer": "ipython3",
   "version": "3.8.2-final"
  },
  "orig_nbformat": 2,
  "kernelspec": {
   "name": "python38264bit32a8db6ed0ca48bc8fe7d49e7911c7b7",
   "display_name": "Python 3.8.2 64-bit"
  }
 },
 "nbformat": 4,
 "nbformat_minor": 2
}