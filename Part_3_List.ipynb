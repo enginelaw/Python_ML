{
 "cells": [
  {
   "cell_type": "markdown",
   "metadata": {},
   "source": [
    "### Lists"
   ]
  },
  {
   "cell_type": "code",
   "execution_count": 1,
   "metadata": {},
   "outputs": [
    {
     "output_type": "stream",
     "name": "stdout",
     "text": "empty_list =  []\nlist:  [123, 'spam', 1.23]\n"
    }
   ],
   "source": [
    "# Lists are mutable and can be looped through\n",
    "empty_list = []                                         # Creating an empty list\n",
    "print('empty_list = ', empty_list)\n",
    "list = [123, 'spam', 1.23]                              # [List] can contain multiple data types\n",
    "print('list: ', list)"
   ]
  },
  {
   "cell_type": "markdown",
   "metadata": {},
   "source": [
    "### Accessing each index"
   ]
  },
  {
   "cell_type": "code",
   "execution_count": 2,
   "metadata": {},
   "outputs": [
    {
     "output_type": "stream",
     "name": "stdout",
     "text": "all animals =  ['cat', 'dog', 'goat', 'sheep']\nfirst =  cat\nsecond =  dog\nthird =  goat\nlast =  sheep\n"
    }
   ],
   "source": [
    "animals = ['cat', 'dog', 'goat', 'sheep']               # List of animals\n",
    "print('all animals = ', animals)                        # print entire list\n",
    "print(\"first = \", animals[0])\n",
    "print(\"second = \", animals[1])                          # print individual index\n",
    "print(\"third = \", animals[2])\n",
    "print(\"last = \", animals[-1])                           # print last index"
   ]
  },
  {
   "cell_type": "markdown",
   "metadata": {},
   "source": [
    "### Accessing range of indices"
   ]
  },
  {
   "cell_type": "code",
   "execution_count": 3,
   "metadata": {},
   "outputs": [
    {
     "output_type": "stream",
     "name": "stdout",
     "text": "all fruits =  ['mango', 'apple', 'peach', 'banana']\n:3 =  ['mango', 'apple', 'peach']\n1: =  ['apple', 'peach', 'banana']\n"
    }
   ],
   "source": [
    "fruits = ['mango', 'apple', 'peach', 'banana']\n",
    "print('all fruits = ', fruits[0:4])                     # print first through last, index 0 included, index 4 not included\n",
    "print(':3 = ', fruits[:3])                              # start to 3, including oth, but not 3rd index\n",
    "print('1: = ', fruits[1:])                              # 1 to end, including 1st and last index"
   ]
  },
  {
   "cell_type": "markdown",
   "metadata": {},
   "source": [
    "### Methods for adding"
   ]
  },
  {
   "cell_type": "code",
   "execution_count": 4,
   "metadata": {},
   "outputs": [
    {
     "output_type": "stream",
     "name": "stdout",
     "text": "all trees =  ['maple', 'oak', 'ash']\nsingle element append =  ['maple', 'oak', 'ash', 'eucalyptus']\nsingle element insert at 2 =  ['maple', 'oak', 'walnut', 'ash', 'eucalyptus']\nextend with additional list =  ['maple', 'oak', 'walnut', 'ash', 'eucalyptus', 'neem', 'banyan']\n\nappending a list =  ['maple', 'oak', 'walnut', 'ash', 'eucalyptus', 'neem', 'banyan', ['amla', 'rosewood']]\ninserting a list at 3 =  ['maple', 'oak', 'walnut', ['sal', 'willow'], 'ash', 'eucalyptus', 'neem', 'banyan', ['amla', 'rosewood']]\n"
    }
   ],
   "source": [
    "# all of the following methods mutates the original list\n",
    "trees = ['maple', 'oak', 'ash']                         # original list\n",
    "print('all trees = ', trees)\n",
    "\n",
    "trees.append('eucalyptus')                              # appending a single element to the end\n",
    "print('single element append = ', trees)\n",
    "\n",
    "trees.insert(2, 'walnut')                               # inserting a single element to a specific index\n",
    "print('single element insert at 2 = ', trees)\n",
    "\n",
    "trees.extend(['neem', 'banyan'])                        # extending with additional list\n",
    "print('extend with additional list = ', trees)\n",
    "\n",
    "# inserting or appending another list simplly adds the list as a whole; ie. list within a list\n",
    "trees.append(['amla', 'rosewood'])\n",
    "print('\\nappending a list = ', trees)\n",
    "\n",
    "trees.insert(3, ['sal', 'willow'])\n",
    "print('inserting a list at 3 = ', trees)"
   ]
  },
  {
   "cell_type": "markdown",
   "metadata": {},
   "source": [
    "### Methods for removing"
   ]
  },
  {
   "cell_type": "code",
   "execution_count": 5,
   "metadata": {},
   "outputs": [
    {
     "output_type": "stream",
     "name": "stdout",
     "text": "all names =  ['peter', 'jackson', 'lary', 'sima', 'bob']\nRemoving single specific element =  ['peter', 'jackson', 'sima', 'bob']\nRemoving last element =  ['peter', 'jackson', 'sima']\nRemoving and storing last element =  ['peter', 'jackson']\nStored removed elements =  sima\n"
    }
   ],
   "source": [
    "# all of the following methods mutates the original list\n",
    "names = ['peter', 'jackson', 'lary', 'sima', 'bob']     # Original list\n",
    "print('all names = ', names)\n",
    "\n",
    "names.remove('lary')                                    # Removing single specified element\n",
    "print('Removing single specific element = ', names)\n",
    "\n",
    "names.pop()                                             # removing last element\n",
    "print('Removing last element = ', names)\n",
    "\n",
    "popped = names.pop()                                    # removing and storing removed element\n",
    "print('Removing and storing last element = ', names)\n",
    "print('Stored removed elements = ', popped)"
   ]
  },
  {
   "cell_type": "markdown",
   "metadata": {},
   "source": [
    "### Methods for sorting"
   ]
  },
  {
   "cell_type": "code",
   "execution_count": 6,
   "metadata": {},
   "outputs": [
    {
     "output_type": "stream",
     "name": "stdout",
     "text": "all cities =  ['miami', 'charleston', 'atlanta', 'boston']\nsorting =  ['atlanta', 'boston', 'charleston', 'miami']\nreverse sorting =  ['miami', 'charleston', 'boston', 'atlanta']\nreverse =  ['atlanta', 'boston', 'charleston', 'miami']\n"
    }
   ],
   "source": [
    "# all of the following methods mutates the original list\n",
    "cities = ['miami', 'charleston', 'atlanta', 'boston']\n",
    "print('all cities = ', cities)\n",
    "\n",
    "cities.sort()                                           # .sort() sort list alphabatically in ascending order\n",
    "print('sorting = ', cities)\n",
    "\n",
    "cities.sort(reverse = True)                             # .sort() sort list alphabatically in descending order\n",
    "print('reverse sorting = ', cities)\n",
    "\n",
    "cities.reverse()                                        # .reverse() reverses a list\n",
    "print('reverse = ', cities)"
   ]
  },
  {
   "cell_type": "markdown",
   "metadata": {},
   "source": [
    "### Common functions"
   ]
  },
  {
   "cell_type": "code",
   "execution_count": 7,
   "metadata": {},
   "outputs": [
    {
     "output_type": "stream",
     "name": "stdout",
     "text": "numbers =  [3, 6, 2, 0, 5]\nlength:  5\nsorted function =  [0, 2, 3, 5, 6]\noriginal intact =  [3, 6, 2, 0, 5]\nmaximum =  6\nminimum =  0\nTrue\nFalse\n"
    }
   ],
   "source": [
    "nums = [3, 6, 2, 0, 5]\n",
    "print('numbers = ', nums)\n",
    "\n",
    "print('length: ', len(nums))                            # len(): length function; number of elements in a variable\n",
    "\n",
    "print('sorted function = ', sorted(nums))               # sorted() function does not mutate the original\n",
    "print('original intact = ', nums)\n",
    "\n",
    "print('maximum = ', max(nums))                          # max/min functions\n",
    "print('minimum = ', min(nums))\n",
    "\n",
    "print(6 in nums)                                        # Check for a value in set\n",
    "print(3.14 in nums)"
   ]
  },
  {
   "cell_type": "markdown",
   "metadata": {},
   "source": [
    "### Join and Split"
   ]
  },
  {
   "cell_type": "code",
   "execution_count": 8,
   "metadata": {},
   "outputs": [
    {
     "output_type": "stream",
     "name": "stdout",
     "text": "all countries =  ['USA', 'England', 'India', 'Australia']\njoined =  USA, England, India, Australia\n<class 'str'>\nsplited =  ['USA', 'England', 'India', 'Australia']\n<class 'list'>\n"
    }
   ],
   "source": [
    "countries = ['USA', 'England', 'India', 'Australia']\n",
    "print('all countries = ', countries)\n",
    "\n",
    "countries_joined = ', '.join(countries)                 # join elements with a comma + space into a single tring\n",
    "print('joined = ', countries_joined)                    # Does not mutate the original\n",
    "print(type(countries_joined))\n",
    "\n",
    "countries_split = countries_joined.split(\", \")          # split elements where comma + space is into a list\n",
    "print('splited = ', countries_split)                    # Does not mutate the original\n",
    "print(type(countries_split))"
   ]
  },
  {
   "cell_type": "markdown",
   "metadata": {},
   "source": [
    "### Accessing Lists within a list"
   ]
  },
  {
   "cell_type": "code",
   "execution_count": 9,
   "metadata": {},
   "outputs": [
    {
     "output_type": "stream",
     "name": "stdout",
     "text": "[[9], [[7]]]\n[9]\n9\n[[7]]\n[7]\n7\n"
    }
   ],
   "source": [
    "z = [[9], [[7]]]\n",
    "print(z)\n",
    "print(z[0])\n",
    "print(z[0][0])\n",
    "\n",
    "print(z[1])\n",
    "print(z[1][0])\n",
    "print(z[1][0][0])\n"
   ]
  },
  {
   "cell_type": "code",
   "execution_count": null,
   "metadata": {},
   "outputs": [],
   "source": []
  }
 ],
 "metadata": {
  "language_info": {
   "codemirror_mode": {
    "name": "ipython",
    "version": 3
   },
   "file_extension": ".py",
   "mimetype": "text/x-python",
   "name": "python",
   "nbconvert_exporter": "python",
   "pygments_lexer": "ipython3",
   "version": "3.6.8-final"
  },
  "orig_nbformat": 2,
  "kernelspec": {
   "name": "python36864bitc7609d8418584bf0bee23e10dd28782a",
   "display_name": "Python 3.6.8 64-bit"
  }
 },
 "nbformat": 4,
 "nbformat_minor": 2
}