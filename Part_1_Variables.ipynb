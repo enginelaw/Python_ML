{
 "cells": [
  {
   "cell_type": "markdown",
   "metadata": {},
   "source": [
    "### Hello World"
   ]
  },
  {
   "cell_type": "code",
   "execution_count": null,
   "metadata": {},
   "outputs": [],
   "source": [
    "print('Hello world!')                               # print(): display anything to the console\n",
    "\n",
    "message = 'Hello universe'                          # assigning data to a variable message\n",
    "print(f'Alien says {message}.')                     # f-string: method bring in variables into a print statement\n",
    "\n",
    "print('\\nThe big bang \\nis where it all started')   # \\n: tells program to start a new line"
   ]
  },
  {
   "cell_type": "markdown",
   "metadata": {},
   "source": [
    "### Data Types"
   ]
  },
  {
   "cell_type": "code",
   "execution_count": null,
   "metadata": {},
   "outputs": [],
   "source": [
    "# Python automatically determines the data type\n",
    "# type(): function determines the data type of a variable\n",
    "\n",
    "_integer = 12\n",
    "print(f'data type of {_integer} is {type(_integer)}')   # whole numbers\n",
    "\n",
    "_float = 3.15\n",
    "print(f'\\ndata type of {_float} is {type(_float)}')     # fractions\n",
    "\n",
    "_string = 'wow'\n",
    "print(f'\\ndata type of {_string} is {type(_string)}')   # text"
   ]
  },
  {
   "cell_type": "markdown",
   "metadata": {},
   "source": [
    "### Basic Computations"
   ]
  },
  {
   "cell_type": "code",
   "execution_count": null,
   "metadata": {},
   "outputs": [],
   "source": [
    "print('Integer sum: ', 123 + 222)                   # Integers\n",
    "print('Decimal multiply: ', 1.4 * 4)                # Fractions\n",
    "print('Division: ', 28 / 8)                         # Division\n",
    "print('Floor Division: ', 28 // 8)                  # Floor Division, drops the decimals\n",
    "print('Power: ', 2 ** 100)                          # Power\n",
    "print('Modulus of 10/2: ', 11 % 2)                  # Remainder, if mod 2 = 0 -> Even, if mod 2 = 1 -> Odd\n",
    "print(60-15/(2-5)+7*2**3)                           # PEMDAS"
   ]
  },
  {
   "cell_type": "markdown",
   "metadata": {},
   "source": [
    "### Common Functions"
   ]
  },
  {
   "cell_type": "code",
   "execution_count": null,
   "metadata": {},
   "outputs": [],
   "source": [
    "PI = 3.1415                                             # Defining variable PI\n",
    "print(PI)                                               # print(): display on console\n",
    "print(type(PI))                                         # type(): identify data type\n",
    "print('Value of pi is: ', round(PI, 3))                 # round(): round number to a set decimals\n",
    "print('Absolute value of -42.6: ', abs(-42.6))          # abs(): absolute value of a number\n",
    "foo = 'Welcome'                                         # defining variable foo\n",
    "print(len(foo))                                         # len(): length of string, list, tuple, dictionary, etc."
   ]
  },
  {
   "cell_type": "markdown",
   "metadata": {},
   "source": [
    "### Iterators"
   ]
  },
  {
   "cell_type": "code",
   "execution_count": null,
   "metadata": {},
   "outputs": [],
   "source": [
    "num = 12                                    # Defining variable num\n",
    "print('num = ', num)\n",
    "num = num + 1                               # Iterating variable\n",
    "print('num = num + 1: ', num)\n",
    "num += 1                                    # Short syntax for iterating variable\n",
    "print('num += 1: ', num)\n",
    "num *= 2                                    # Iteration works for any computations\n",
    "print('num *= 2: ', num)"
   ]
  },
  {
   "cell_type": "markdown",
   "metadata": {},
   "source": [
    "### Comparison Operators"
   ]
  },
  {
   "cell_type": "code",
   "execution_count": null,
   "metadata": {},
   "outputs": [],
   "source": [
    "num1 = 90\n",
    "num2 = 67\n",
    "print('Is 90 equal 67? ', num1 == num2)                     # Equal\n",
    "print('Is 90 not equal 67? ', num1 != num2)                 # Not equal\n",
    "print('Is 90 less than 67? ', num1 < num2)                  # Less than\n",
    "print('Is 90 greater or equal 67? ', num1 >= num2)          # Greater than or equal"
   ]
  },
  {
   "cell_type": "markdown",
   "metadata": {},
   "source": [
    "### Type Conversion"
   ]
  },
  {
   "cell_type": "code",
   "execution_count": null,
   "metadata": {},
   "outputs": [],
   "source": [
    "var = \"100\"             # String\n",
    "foo = \"37.5\"            # String\n",
    "print(\"Add Strings 100 & 36.5: \", var + foo)                                # Concatinating strings\n",
    "print(\"Add converted digits 100 & 36.5: \", int(var) + float(foo))           # Convert to digit and add\n",
    "print(\"Convert back to string and add: \", str(int(var)) + str(float(foo)))  # Convert to string"
   ]
  },
  {
   "cell_type": "code",
   "execution_count": null,
   "metadata": {},
   "outputs": [],
   "source": []
  }
 ],
 "metadata": {
  "language_info": {
   "codemirror_mode": {
    "name": "ipython",
    "version": 3
   },
   "file_extension": ".py",
   "mimetype": "text/x-python",
   "name": "python",
   "nbconvert_exporter": "python",
   "pygments_lexer": "ipython3",
   "version": "3.6.8-final"
  },
  "orig_nbformat": 2,
  "kernelspec": {
   "name": "python36864bitc7609d8418584bf0bee23e10dd28782a",
   "display_name": "Python 3.6.8 64-bit"
  }
 },
 "nbformat": 4,
 "nbformat_minor": 2
}