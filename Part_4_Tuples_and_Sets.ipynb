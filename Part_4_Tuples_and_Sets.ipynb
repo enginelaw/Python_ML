{
 "cells": [
  {
   "cell_type": "markdown",
   "metadata": {},
   "source": [
    "### Tuples"
   ]
  },
  {
   "cell_type": "code",
   "execution_count": 1,
   "metadata": {},
   "outputs": [
    {
     "output_type": "stream",
     "name": "stdout",
     "text": "Tuple example =  ('History', 'Math', 'Science')\nJoin Tuple =  History, Math, Science\n"
    }
   ],
   "source": [
    "# Tuples are not mutable, they can't be modified once created\n",
    "# We can access and loop through same as a list\n",
    "\n",
    "empty_tuple = tuple()                                       # creating an empty tuple\n",
    "tuple_1 = ('History', 'Math', 'Science')                    # generating a tuple\n",
    "print('Tuple example = ', tuple_1)\n",
    "\n",
    "tuple_2 = ', '.join(tuple_1)                                # Modification does not change tuple_1, thus allowed\n",
    "print('Join Tuple = ', tuple_2)"
   ]
  },
  {
   "cell_type": "markdown",
   "metadata": {},
   "source": [
    "### Sets"
   ]
  },
  {
   "cell_type": "code",
   "execution_count": 2,
   "metadata": {},
   "outputs": [
    {
     "output_type": "stream",
     "name": "stdout",
     "text": "Set example =  {'Science', 'Math', 'History'}\nTrue\nCommon =  {'Tomato'}\nDifference =  {'Banana', 'Apple', 'Orange'}\nTotal =  {'Potato', 'Banana', 'Egg Plant', 'Apple', 'Tomato', 'Lettuce', 'Orange'}\n"
    }
   ],
   "source": [
    "# sets are not ordered and no duplicates\n",
    "empty_set = set()                                           # creating an empty set\n",
    "set_1 = {'History', 'Math', 'Science', 'Math'}              # generating a set\n",
    "print('Set example = ', set_1)\n",
    "check_math = print('Math' in set_1)                         # Check for a value in set\n",
    "\n",
    "Fruits = {'Apple', 'Banana', 'Orange', 'Tomato'}\n",
    "Vegies = {'Egg Plant', 'Potato', 'Tomato', 'Lettuce'}\n",
    "print('Common = ', Fruits.intersection(Vegies))             # .intersection(), common in sets\n",
    "print('Difference = ', Fruits.difference(Vegies))           # .difference(), differences in sets\n",
    "print('Total = ', Fruits.union(Vegies))                     # .union(), union of sets\n"
   ]
  },
  {
   "cell_type": "code",
   "execution_count": null,
   "metadata": {},
   "outputs": [],
   "source": []
  }
 ],
 "metadata": {
  "language_info": {
   "codemirror_mode": {
    "name": "ipython",
    "version": 3
   },
   "file_extension": ".py",
   "mimetype": "text/x-python",
   "name": "python",
   "nbconvert_exporter": "python",
   "pygments_lexer": "ipython3",
   "version": "3.6.8-final"
  },
  "orig_nbformat": 2,
  "kernelspec": {
   "name": "python36864bitc7609d8418584bf0bee23e10dd28782a",
   "display_name": "Python 3.6.8 64-bit"
  }
 },
 "nbformat": 4,
 "nbformat_minor": 2
}