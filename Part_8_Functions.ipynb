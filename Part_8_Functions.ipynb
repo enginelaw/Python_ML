{
 "cells": [
  {
   "cell_type": "code",
   "execution_count": 2,
   "metadata": {},
   "outputs": [
    {
     "output_type": "stream",
     "name": "stdout",
     "text": "Sign of 8.9 is positive\n"
    }
   ],
   "source": [
    "def sign(x):\n",
    "    if x<0:\n",
    "        sign='negative'\n",
    "    elif x>0:\n",
    "        sign='positive'\n",
    "    else:\n",
    "        sign='zero'\n",
    "    return sign\n",
    "\n",
    "A = 8.9\n",
    "print(f'Sign of {A} is {sign(A)}')"
   ]
  },
  {
   "cell_type": "code",
   "execution_count": null,
   "metadata": {},
   "outputs": [],
   "source": []
  }
 ],
 "metadata": {
  "language_info": {
   "codemirror_mode": {
    "name": "ipython",
    "version": 3
   },
   "file_extension": ".py",
   "mimetype": "text/x-python",
   "name": "python",
   "nbconvert_exporter": "python",
   "pygments_lexer": "ipython3",
   "version": "3.6.8-final"
  },
  "orig_nbformat": 2,
  "kernelspec": {
   "name": "python36864bitc7609d8418584bf0bee23e10dd28782a",
   "display_name": "Python 3.6.8 64-bit"
  }
 },
 "nbformat": 4,
 "nbformat_minor": 2
}