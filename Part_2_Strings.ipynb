{
 "cells": [
  {
   "cell_type": "markdown",
   "metadata": {},
   "source": [
    "### String Generation"
   ]
  },
  {
   "cell_type": "code",
   "execution_count": 1,
   "metadata": {},
   "outputs": [
    {
     "output_type": "stream",
     "name": "stdout",
     "text": "Hello Universe\nHello Joe's World\nThe Big Bang\n            Theory\nOf the Universe \nand BEYOUND\n"
    }
   ],
   "source": [
    "print('Hello Universe')                         # Single Quote\n",
    "print(\"Hello Joe's World\")                      # Double Quote\n",
    "print(\"\"\"The Big Bang\n",
    "            Theory\"\"\")                          # Triple double quotes for multi-line\n",
    "print('Of the Universe \\nand BEYOUND')          # \\n; New line character"
   ]
  },
  {
   "cell_type": "markdown",
   "metadata": {},
   "source": [
    "### String Access"
   ]
  },
  {
   "cell_type": "code",
   "execution_count": 2,
   "metadata": {},
   "outputs": [
    {
     "output_type": "stream",
     "name": "stdout",
     "text": "foo = Boss\nlength of foo =  4\nfoo[0] = B \nfoo[1] = o \nfoo[2] = s \nfoo[-1] = s\n\nbar =  Coca-Cola \nbar[0:4] = Coca \nbar[5:9] = Cola \nConcatination =  CocaCola\n\nvar =  World Order \nvar[:5] = World \nvar[6:] = Order\n"
    }
   ],
   "source": [
    "foo = 'Boss'\n",
    "print('foo = ' + foo)\n",
    "print('length of foo = ', len(foo))             # len(); length function for number of characters, digits, elements, etc.\n",
    "print(\n",
    "    'foo[0] = ' + foo[0],                       # first index\n",
    "    '\\nfoo[1] = ' + foo[1],                     # second index\n",
    "    '\\nfoo[2] = ' + foo[2],                     # third index\n",
    "    '\\nfoo[-1] = ' + foo[-1]                    # last index\n",
    "    )\n",
    "\n",
    "bar = 'Coca-Cola'\n",
    "print(\n",
    "    '\\nbar = ', bar,\n",
    "    '\\nbar[0:4] = ' + bar[0:4],                 # range; index 0 included, 4 not included\n",
    "    '\\nbar[5:9] = ' + bar[5:9],                 # range; index 5 included, 9 not included\n",
    "    '\\nConcatination = ', bar[0:4] + bar[5:9],  # +: Concatination of strings\n",
    "    )\n",
    "\n",
    "var = 'World Order'\n",
    "print(\n",
    "    '\\nvar = ', var,\n",
    "    '\\nvar[:5] = ' + var[:5],                   # all before index 5\n",
    "    '\\nvar[6:] = ' + var[6:],                   # all after and including index 6\n",
    "    )"
   ]
  },
  {
   "cell_type": "markdown",
   "metadata": {},
   "source": [
    "### String Methods"
   ]
  },
  {
   "cell_type": "code",
   "execution_count": 3,
   "metadata": {},
   "outputs": [
    {
     "output_type": "stream",
     "name": "stdout",
     "text": "var = Procter and Gamble\nGamble starts at:  12\n['Procter', 'and', 'Gamble'] \n\nSPAM\nspam \n\njar = TwentyThree\nDigit = False\nAlpha = True\n\nnum = 23\nDigit = True\nAlpha = False\nOriginal = Hello World\nAfter replacing = Hello World\nAfter replacing and reassigning = Hello Universe\n"
    }
   ],
   "source": [
    "var = 'Procter and Gamble'                      # Reassigning existing variable\n",
    "print('var = ' + var)\n",
    "Order_index = var.find('Gamble')                # .find() method to find an index of a substring\n",
    "print('Gamble starts at: ', Order_index)        # Note that you can't add an integer to a string thus using \",\" and not \"+\"\n",
    "Split = var.split(' ')                          # .split() method to seperate string into substrings on a delimiter\n",
    "print(Split, '\\n')                              # Delimiter here is space\n",
    "\n",
    "boo = 'SpAm'\n",
    "print(boo.upper())                              # .upper() method to converts to all upper case\n",
    "print(boo.lower(), '\\n')                        # .lower() method to converts to all lower case\n",
    "\n",
    "jar = 'TwentyThree'\n",
    "print('jar = ' + jar)\n",
    "print('Digit = ' + str(jar.isdigit()))          # .isdigit() method to check if all digits in a string\n",
    "print('Alpha = ' + str(jar.isalpha()))          # .isalpha() method to check is all alphabets in a string\n",
    "\n",
    "num = '23'\n",
    "print('\\nnum = ' + num)\n",
    "print('Digit = ' + str(num.isdigit()))\n",
    "print('Alpha = ' + str(num.isalpha()))\n",
    "\n",
    "message = 'Hello World'                                 # Assignment\n",
    "print('Original = ' + message)\n",
    "message.replace('World', 'Universe')                    # .replace() method to replace a substring\n",
    "print('After replacing = ' + message)                   # last replacement method did not mutated/changed the variable itself\n",
    "message = message.replace('World', 'Universe')          # reassigning\n",
    "print('After replacing and reassigning = ' + message)   # Now this is the correct way to use .replace()"
   ]
  },
  {
   "cell_type": "markdown",
   "metadata": {},
   "source": [
    "### String Concatination"
   ]
  },
  {
   "cell_type": "code",
   "execution_count": 4,
   "metadata": {},
   "outputs": [
    {
     "output_type": "stream",
     "name": "stdout",
     "text": "Joe Lee\nJoe Lee\nJoe Lee\n"
    }
   ],
   "source": [
    "first = 'Joe'\n",
    "last = 'Lee'\n",
    "print(first + ' ' + last)                       # + method\n",
    "print('{0} {1}'.format(first, last))            # .format(a, b)\n",
    "print(f'{first} {last}')                        # f-string"
   ]
  }
 ],
 "metadata": {
  "language_info": {
   "codemirror_mode": {
    "name": "ipython",
    "version": 3
   },
   "file_extension": ".py",
   "mimetype": "text/x-python",
   "name": "python",
   "nbconvert_exporter": "python",
   "pygments_lexer": "ipython3",
   "version": "3.6.8-final"
  },
  "orig_nbformat": 2,
  "kernelspec": {
   "name": "python36864bitc7609d8418584bf0bee23e10dd28782a",
   "display_name": "Python 3.6.8 64-bit"
  }
 },
 "nbformat": 4,
 "nbformat_minor": 2
}